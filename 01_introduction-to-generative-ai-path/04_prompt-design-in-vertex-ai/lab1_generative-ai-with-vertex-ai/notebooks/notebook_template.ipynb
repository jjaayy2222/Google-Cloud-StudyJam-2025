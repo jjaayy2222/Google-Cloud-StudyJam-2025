{
 "cells": [
  {
   "cell_type": "code",
   "execution_count": 1,
   "metadata": {
    "id": "ur8xi4C7S06n"
   },
   "outputs": [],
   "source": [
    "# Copyright 2023 Google LLC\n",
    "#\n",
    "# Apache 라이선스 2.0 (이하 \"라이선스\")에 따라 라이선스가 허여되었습니다.\n",
    "# 이 파일을 라이선스를 준수하지 않고서는 사용할 수 없습니다.\n",
    "#\n",
    "# 라이선스의 사본은 다음에서 얻을 수 있습니다.\n",
    "#\n",
    "#     https://www.apache.org/licenses/LICENSE-2.0\n",
    "#\n",
    "# 관련 법규에 의해 요구되거나 서면으로 동의하지 않는 한,\n",
    "# 본 라이선스에 따라 배포되는 소프트웨어는 어떠한 종류의 보증이나 조건도 없이\n",
    "# \"있는 그대로(AS IS)\" 배포됩니다.\n",
    "#\n",
    "# 라이선스에 따른 특정 언어 권한 및 제한 사항에 대한 내용은\n",
    "# 라이선스를 참조하십시오."
   ]
  },
  {
   "cell_type": "markdown",
   "metadata": {},
   "source": [
    "---"
   ]
  },
  {
   "cell_type": "markdown",
   "metadata": {
    "id": "JAPoU8Sm5E6e"
   },
   "source": [
    "# [TODO] -- 여기에 제목을 추가하세요. -- \n",
    "\n",
    "* 보통 실습 목적에 맞게 적으면 됨\n",
    "  \n",
    "  * 예시: `Generative AI with Gemini` 등"
   ]
  },
  {
   "cell_type": "markdown",
   "metadata": {
    "id": "24743cf4a1e1"
   },
   "source": [
    "**_참고_**: 이 노트북(실습 환경)은 다음 환경에서 테스트되었습니다.\n",
    "\n",
    "* Python version = 3.10.13 - 구글 클라우드 실습 환경\n",
    "* 로컬에서 이 실습 코드를 실행한다면, 되도록 파이썬 3.10.13 버전을 사용하거나, 이와 호환되는 3.10.x 버전을 사용하는 것을 권장"
   ]
  },
  {
   "cell_type": "markdown",
   "metadata": {},
   "source": [
    "---"
   ]
  },
  {
   "cell_type": "markdown",
   "metadata": {
    "id": "tvgnzT1CKxrO"
   },
   "source": [
    "## 개요 (Overview)\n",
    "\n",
    "{TODO: 이 예제가 무엇을 시연하는지, 누가 관심을 가질 만한지, 시작하기 전에 무엇을 알아야 하는지 설명하는 한두 문단을 포함하세요.}\n",
    "\n",
    "[web-doc-title](linkback-to-webdoc-page)에 대해 더 알아보세요. {TODO: 만약 주요 기능이 하나 이상이라면, 각 기능에 대한 태그/링크를 추가하세요.}"
   ]
  },
  {
   "cell_type": "markdown",
   "metadata": {},
   "source": [
    "- * \n",
    "  \n",
    "  [예시]\n",
    "\n",
    "  이 노트북은 Vertex AI Generative AI API를 처음 사용하는 사용자를 대상으로 합니다.  \n",
    "\n",
    "  Google Cloud 프로젝트와 간단한 Python 코드만으로 텍스트-완성 프롬프트를 호출해 보고, 비용 관리와 리소스 정리까지 전 과정을 실습합니다.\n",
    "\n",
    "- * "
   ]
  },
  {
   "cell_type": "markdown",
   "metadata": {},
   "source": [
    "---"
   ]
  },
  {
   "cell_type": "markdown",
   "metadata": {
    "id": "d975e698c9a4"
   },
   "source": [
    "## 목표 (Objective)\n",
    "\n",
    "이 튜토리얼에서는 다음 내용을 배웁니다.\n",
    "{TODO: 노트북(실습)을 통해 무엇을 배우게 될지 간략하게 설명하는 문장을 완성하세요. (예: 모델 학습, 하이퍼파라미터 튜닝, 모델 배포 등)}\n",
    "\n",
    "* 이 튜토리얼에서는 다음과 같은 Google Cloud ML 서비스와 리소스를 사용합니다.\n",
    "\n",
    "  * *{TODO: 시연에 사용되는 서비스/리소스에 대한 주요 항목을 추가하세요. (예: Vertex AI Training)}*\n",
    "\n",
    "\n",
    "* 수행되는 단계는 다음과 같습니다.\n",
    "  * *{TODO: 노트북에서 수행되는 단계에 대한 주요 항목을 추가하세요.}*"
   ]
  },
  {
   "cell_type": "markdown",
   "metadata": {},
   "source": [
    "- * \n",
    "\n",
    "  [예시] 이 튜토리얼에서 학습할 내용\n",
    "\n",
    "  * `Google Cloud 프로젝트` 및 `Vertex AI` 초기 설정\n",
    "   \n",
    "  * `GenerativeModel` 클래스로 텍스트-완성 프롬프트 호출\n",
    "  \n",
    "  * `Cloud Storage 버킷`을 구축해 결과 아티팩트 보관\n",
    "   \n",
    "  * 사용 리소스 삭제로 비용 최적화\n",
    "   \n",
    "   \n",
    "  * 사용 서비스\n",
    "   \n",
    "    > `Vertex AI Generative AI`\n",
    "    > \n",
    "    > `Cloud Storage`\n",
    "\n",
    "- * "
   ]
  },
  {
   "cell_type": "markdown",
   "metadata": {},
   "source": [
    "---"
   ]
  },
  {
   "cell_type": "markdown",
   "metadata": {
    "id": "08d289fa873f"
   },
   "source": [
    "## 데이터셋 (Dataset)\n",
    "{TODO: 데이터셋 정보와 얻는 곳에 대한 한 단락을 포함하세요.}\n",
    "\n",
    "{TODO: 데이터셋이 대중에게 공개되어 있는지 확인하세요. **Googlers**: 아직 데이터셋이 없다면 [public samples bucket](http://goto/cloudsamples#sample-storage-bucket)에 추가하세요.}"
   ]
  },
  {
   "cell_type": "markdown",
   "metadata": {},
   "source": [
    "---"
   ]
  },
  {
   "cell_type": "markdown",
   "metadata": {
    "id": "aed92deeb4a0"
   },
   "source": [
    "### 비용 (Costs)\n",
    "\n",
    "{TODO: 튜토리얼에서 사용하는 요금 청구 대상 제품 목록을 업데이트하세요.}\n",
    "\n",
    "이 튜토리얼은 Google Cloud의 다음 유료(요금 청구) 구성요소들을 사용합니다.:\n",
    "\n",
    "* Vertex AI\n",
    "* {TODO: BigQuery}\n",
    "* Cloud Storage\n",
    "\n",
    "{TODO: 위에 나열된 각 제품의 가격 책정 문서 링크를 포함하세요.\n",
    "참고: BigQuery 또는 Dataflow를 사용하는 경우, 이 내용을 가격 책정 부분에 추가해야 합니다.}\n",
    "\n",
    "* 알아보기\n",
    "  * **[Vertex AI 가격](https://cloud.google.com/vertex-ai/pricing)**\n",
    "  * **{ TODO: [BigQuery 가격](https://cloud.google.com/bigquery/pricing), }**\n",
    "  \n",
    "* 예상 사용량을 기반으로 비용을 산출하려면 [가격 계산기 Cloud Storage pricing](https://cloud.google.com/storage/pricing)를 사용하세요."
   ]
  },
  {
   "cell_type": "markdown",
   "metadata": {},
   "source": [
    "---"
   ]
  },
  {
   "cell_type": "markdown",
   "metadata": {
    "id": "i7EUnXsZhAGF"
   },
   "source": [
    "## 설치 (Installation)\n",
    "\n",
    "이 노트북(실습)을 실행하는 데 필요한 패키지를 설치하세요.\n",
    "\n",
    "{TODO: 각 패키지의 최신 `GA(General Availability) 버전`을 `--upgrade 옵션`을 사용하여 `설치`하도록 제안합니다.}"
   ]
  },
  {
   "cell_type": "markdown",
   "metadata": {
    "id": "2b4ef9b72d43"
   },
   "source": [
    "* **주피터 노트북(Jupyter Notebook)** 이나 **코랩(Colab)** 과 같은 노트북 환경에서 **`구글 Vertex AI 파이썬 클라이언트 라이브러리`** 를 **`설치`** 하거나 **`최신 버전으로 업데이트`** 하는 명령어\n",
    "\n",
    "    ```<python>\n",
    "\n",
    "        ! pip3 install --upgrade --quiet google-cloud-aiplatform\n",
    "    \n",
    "    ```\n",
    "  * `!` = 노트북 셀에서 파이썬 코드가 아닌 운영체제(OS) 명령어를 실행하겠다는 의미\n",
    "  * `pip3 install`: 파이썬 3 패키지 설치\n",
    "  * `--upgrade`: 이미 설치된 패키지가 있다면 **최신 버전으로 업데이트**\n",
    "  * `--quiet`: 설치 **과정에서 출력되는 메시지를 최소화**하여, 화면을 깔끔하게 유지\n",
    "  * `google-cloud-aiplatform`: **구글의 AI/ML 개발 플랫폼**인 **`Vertex AI`** 를 사용하기 위한 **`파이썬 라이브러리`**"
   ]
  },
  {
   "cell_type": "markdown",
   "metadata": {},
   "source": [
    "---"
   ]
  },
  {
   "cell_type": "markdown",
   "metadata": {
    "id": "BF1j6f9HApxa"
   },
   "source": [
    "## 시작하기 전에\n",
    "\n",
    "### Google Cloud 프로젝트 설정\n",
    "\n",
    "**노트북 환경과 관계없이 다음 단계는 필수입니다.**\n",
    "\n",
    "1. [Google Cloud 프로젝트를 선택하거나 새로 만드세요.](https://console.cloud.google.com/cloud-resource-manager). 계정을 처음 만들면 컴퓨팅/스토리지 비용으로 사용할 수 있는 $300의 무료 크레딧이 제공됩니다.\n",
    "\n",
    "2. [프로젝트의 결제가 사용 설정되어 있는지 확인하세요.](https://cloud.google.com/billing/docs/how-to/modify-project).\n",
    "\n",
    "3. [Vertex AI API를 사용 설정하세요.](https://console.cloud.google.com/flows/enableapi?apiid=aiplatform.googleapis.com). {TODO: 튜토리얼에 필요한 API를 업데이트하세요. API 이름을 수정하고, 각 API ID를 쉼표로 구분하여 링크에 추가하세요. 예: container.googleapis.com,cloudbuild.googleapis.com}\n",
    "\n",
    "4. 이 노트북을 로컬에서 실행하는 경우, [Cloud SDK](https://cloud.google.com/sdk)를 설치해야 합니다."
   ]
  },
  {
   "cell_type": "markdown",
   "metadata": {},
   "source": [
    "---"
   ]
  },
  {
   "cell_type": "markdown",
   "metadata": {
    "id": "WReHDGG5g0XY"
   },
   "source": [
    "#### 프로젝트 ID 설정                                               ≒ 실습을 진행할 `계정`\n",
    "\n",
    "**프로젝트 ID를 모르는 경우** 다음 방법을 시도해보세요. : \n",
    "\n",
    "* `gcloud config list`를 실행하세요.\n",
    "  \n",
    "* `gcloud projects list`를 실행하세요.\n",
    "\n",
    "* 다음 지원 페이지를 참고하세요: [프로젝트 ID 찾기 Locate the project ID](https://support.google.com/googleapi/answer/7014113)"
   ]
  },
  {
   "cell_type": "markdown",
   "metadata": {
    "id": "oM1iC_MfAts1"
   },
   "source": [
    "* `Google Cloud 프로젝트 ID` 설정\n",
    "\n",
    "    ```<python>\n",
    "\n",
    "        PROJECT_ID = \"[your-project-id]\"            # 자신의 실제 Google Cloud 프로젝트 ID를 문자열 형태로 입력\n",
    "\n",
    "        # 사용자가 입력한 프로젝트 ID를 gcloud 명령어에 전달\n",
    "        # 이후 실행될 모든 클라우드 작업이 해당 프로젝트에서 진행되도록 설정\n",
    "\n",
    "        ! gcloud config set project {PROJECT_ID}\n",
    "\n",
    "    ```\n",
    "\n",
    "* 로컬에서 실행 시 유의!\n",
    "  * `변수 선언 먼저` 하기\n",
    "\n",
    "  * `gcloud` 명령어 실행 → `터미널`에서 `!없이` `직접` 명령어 `입력`\n",
    "  \n",
    "        ```<python>\n",
    "\n",
    "            PROJECT_ID = \"your-project-id\"\n",
    "\n",
    "            gcloud config set project your-project-id                   # 터미널에서 직접 실행\n",
    "        \n",
    "        ```"
   ]
  },
  {
   "cell_type": "markdown",
   "metadata": {},
   "source": [
    "---"
   ]
  },
  {
   "cell_type": "markdown",
   "metadata": {
    "id": "region"
   },
   "source": [
    "#### 리전 (Region)                                               ≒ 실습을 진행할 `물리적 위치`\n",
    "\n",
    "> Vertex AI가 사용하는 `REGION` 변수를 변경할 수 있습니다. \n",
    "> \n",
    "> [Vertex AI regions](https://cloud.google.com/vertex-ai/docs/general/locations)에 대해 더 알아보세요."
   ]
  },
  {
   "cell_type": "markdown",
   "metadata": {
    "id": "region"
   },
   "source": [
    "* `Google Cloud 리전(Region) 설정`\n",
    "\n",
    "    ```<python>\n",
    "\n",
    "        REGION = \"us-central1\"                                    # 사용할 Region을 문자열 형태로 입력\n",
    "\n",
    "    ```\n",
    "\n",
    "  * `# @param {type: \"string\"}` = 코랩(Colab) 환경에서 사용자가 변수 값을 쉽게 입력할 수 있도록 UI 입력 상자를 만드는 주석\n",
    "  \n",
    "  * 앞으로 실행될 모든 `Vertex AI 관련 작업(모델 학습, 배포 등)`은 `us-central1`이라는 특정 물리적 위치의 데이터 센터에서 처리되도록 지정"
   ]
  },
  {
   "cell_type": "markdown",
   "metadata": {},
   "source": [
    "---"
   ]
  },
  {
   "cell_type": "markdown",
   "metadata": {
    "id": "sBCra4QMA2wR"
   },
   "source": [
    "### Google Cloud 계정 인증\n",
    "\n",
    "이 노트북을 실행하는 `워크벤치 인스턴스`의 `서비스 계정 ID`로 `클라우드 SDK`, `코드` 및 `다른 라이브러리`들이 현재 실행됩니다."
   ]
  },
  {
   "cell_type": "markdown",
   "metadata": {
    "id": "de775a3773ba"
   },
   "source": [
    "**- 사용자 인증 정보로 클라우드 SDK 인증 :**"
   ]
  },
  {
   "cell_type": "markdown",
   "metadata": {
    "id": "254614fa0c46"
   },
   "source": [
    "* 클라우드 쉘이나 로컬 터미널에서 사용자의 개인 계정으로 gcloud CLI를 인증하는 명령어\n",
    "\n",
    "    ```<python>\n",
    "\n",
    "        ! gcloud auth login\n",
    "    \n",
    "    ```\n",
    "  * 실행 후: 웹 브라우저가 열리고, **사용자가 구글 계정에 로그인** → `gcloud CLI`에 **권한을 부여**"
   ]
  },
  {
   "cell_type": "markdown",
   "metadata": {
    "id": "authlibtitle"
   },
   "source": [
    "**- 사용자 인증 정보로 코드 및 라이브러리 인증 :**"
   ]
  },
  {
   "cell_type": "markdown",
   "metadata": {
    "id": "authlibcode"
   },
   "source": [
    "* 로컬 PC에서 `google-cloud 라이브러리`를 통해 `클라우드 API`에 `접근`할 때 사용되는 `인증 정보`를 `설정`하는 명령어\n",
    "\n",
    "    ```<python>\n",
    "\n",
    "        ! gcloud auth application-default\n",
    "    \n",
    "    ```\n",
    "  * `application-default` = **애플리케이션 기본 자격증명**\n",
    "  \n",
    "  * 명령어를 실행 → **`역시 웹 브라우저`를 통해 `인증` 절차**\n",
    "    * 로컬 PC에 **`Cloud SDK`** 가 **`반드시 설치`** 되어 있어야 함"
   ]
  },
  {
   "cell_type": "markdown",
   "metadata": {
    "id": "f6b2ccc891ed"
   },
   "source": [
    "**- 서비스 계정 또는 기타**\n",
    "* 서비스 계정에 Cloud Storage 권한을 부여하는 방법은 https://cloud.google.com/storage/docs/gsutil/commands/iam#ch-examples 에서 확인할 수 있습니다."
   ]
  },
  {
   "cell_type": "markdown",
   "metadata": {},
   "source": [
    "---"
   ]
  },
  {
   "cell_type": "markdown",
   "metadata": {
    "id": "zgPO1eR3CYjk"
   },
   "source": [
    "### Cloud Storage 버킷 생성\n",
    "\n",
    "데이터셋과 같은 중간 산출물을 저장할 스토리지 버킷을 생성하세요.\n",
    "\n",
    "- *{노트북 작성자에게: `버킷 이름`이나 `모델 ID`처럼 고유해야 하는 사용자 제공 문자열의 경우, 적절한 테스트를 위해 끝에 `-unique`를 추가하세요.}*"
   ]
  },
  {
   "cell_type": "markdown",
   "metadata": {},
   "source": [
    "* `Google Cloud Storage (GCS) 버킷 URI` 생성 \n",
    "  >\n",
    "  > 구글 클라우드에서 제공하는 객체 저장소 서비스 \n",
    "  >\n",
    "  > 데이터 저장 및 관리 가능\n",
    "\n",
    "\n",
    "    ```<python>\n",
    "\n",
    "        BUCKET_URI = f\"gs://your-bucket-name-{PROJECT_ID}-unique\"               # 파라미터 = 동적 str타입\n",
    "\n",
    "    ```\n",
    "  * `f-string` = `{ } 중괄호` 안에 변수를 넣으면 해당 변수의 값이 문자열에 자동으로 삽입 = `동적 변수` 생성\n",
    "  * `gs://` = `Google Cloud Storage`의 `URI 형식`\n",
    "  * `your-bucket-name` = `실제 버킷 이름` 지정\n",
    "    * 예시: `my-images-bucket` 등\n",
    "  * `{PROJECT_ID}` = 프로젝트의 ID\n",
    "  * **`-unique`** \n",
    "    * 버킷 이름이 `고유`하게 `생성`되도록 `추가`적인 문자열\n",
    "    * 다른 사람이 이미 동일한 이름을 사용 중일 수 있기 때문에 **이름 충돌을 방지**하는 역할"
   ]
  },
  {
   "cell_type": "markdown",
   "metadata": {
    "id": "-EcIXiGsCePi"
   },
   "source": [
    "**버킷이 아직 존재하지 않는 경우에만**: 이미 같은 이름의 버킷이 있다면 이 코드를 다시 실행할 경우 오류가 발생합니다."
   ]
  },
  {
   "cell_type": "markdown",
   "metadata": {
    "id": "NIq7R4HZCfIc"
   },
   "source": [
    "* **Google Cloud Storage(GCS)** 에 버킷 생성\n",
    "\n",
    "\n",
    "    ```<python>\n",
    "\n",
    "        ! gsutil mb -l {REGION} -p {PROJECT_ID} {BUCKET_URI}\n",
    "\n",
    "    ```\n",
    "\n",
    "  * `gsutil mb` \n",
    "    * `mb` = **`make bucket`**의 줄임말\n",
    "    * 새 GCS 버킷 생성 명령어\n",
    "    * `gsutil` 명령이 실행되려면 `Colab`에서 `Google Cloud SDK` 인증이 되어 있어야 함\n",
    "\n",
    "  * `-l {REGION}`\n",
    "    * `버킷을 만들 리전(region) 지정`\n",
    "    * **리전은 한 번 설정하면 변경 불가**\n",
    "      * 예시: `us-central1`, `asia-northeast3`, `europe-west1` 등\n",
    "      * 예시: `-l us-central1`\n",
    "\n",
    "  * `-p {PROJECT_ID}`: `어떤 Google Cloud 프로젝트`에 버킷을 만들지 `지정`\n",
    "\n",
    "  * `{PROJECT_ID}` = 프로젝트의 ID\n",
    "  \n",
    "  * `{BUCKET_URI}` = 생성한 버킷 URI\n",
    "    * 예시: `gs://my-bucket-project123-unique`\n",
    "    * 버킷 이름 = **`전 세계적으로 고유`**\n"
   ]
  },
  {
   "cell_type": "markdown",
   "metadata": {},
   "source": [
    "---"
   ]
  },
  {
   "cell_type": "markdown",
   "metadata": {
    "id": "960505627ddf"
   },
   "source": [
    "### 라이브러리 가져오기"
   ]
  },
  {
   "cell_type": "markdown",
   "metadata": {
    "id": "PyQmSRbKA8r-"
   },
   "source": [
    "* google.cloud 패키지에서 aiplatform 라이브러리 가져오기\n",
    "\n",
    "    ```<python>\n",
    "\n",
    "        from google.cloud import aiplatform\n",
    "\n",
    "    ```\n",
    "\n",
    "  * `aiplatform 라이브러리` = `Vertex AI` 서비스와 `상호 작용`하는 데 필요한 모든 클래스와 함수 제공"
   ]
  },
  {
   "cell_type": "markdown",
   "metadata": {},
   "source": [
    "---"
   ]
  },
  {
   "cell_type": "markdown",
   "metadata": {},
   "source": [
    "---"
   ]
  },
  {
   "cell_type": "markdown",
   "metadata": {
    "id": "init_aip:mbsdk,all"
   },
   "source": [
    "### Vertex AI SDK for Python 초기화\n",
    "\n",
    "프로젝트를 위해 Vertex AI SDK for Python을 초기화합니다"
   ]
  },
  {
   "cell_type": "markdown",
   "metadata": {
    "id": "init_aip:mbsdk,all"
   },
   "source": [
    "* 라이브러리의 초기화 함수\n",
    "\n",
    "  * **실습 시작 전** → 이 함수 호출 → **필요한 설정 완료**\n",
    "  * 실습에서 사용할 **`구글 클라우드 프로젝트`**, **`리전`**, **`버킷`** 정보 → **`aiplatform 라이브러리`** 에 전달\n",
    "  * **`모든 Vertex AI 관련 작업이 올바르게 이루어지도록 준비하는 것`**\n",
    "\n",
    "    ```<python>\n",
    "\n",
    "        aiplatform.init(project=PROJECT_ID, location=REGION, staging_bucket=BUCKET_URI)\n",
    "\n",
    "    ```\n",
    "\n",
    "  * `project=PROJECT_ID`\n",
    "    * 이전에 설정했던 프로젝트 ID`를 지정합니다. \n",
    "    * `SDK`가 어떤 프로젝트의 리소스에 접근해야 하는지 알려주기\n",
    "\n",
    "  * `location=REGION`\n",
    "    * 이전에 설정했던 리전을 지정\n",
    "    * 모든 작업이 이 리전에서 실행되도록 설정\n",
    "  \n",
    "  * `staging_bucket=BUCKET_URI`\n",
    "    * 이전에 생성했던 Cloud Storage 버킷의 URI\n",
    "    * 모델 파일, 데이터, 로그 등 중간 산출물들을 임시로 저장하는 데 사용"
   ]
  },
  {
   "cell_type": "markdown",
   "metadata": {},
   "source": [
    "---"
   ]
  },
  {
   "cell_type": "markdown",
   "metadata": {},
   "source": [
    "- * \n",
    "\n",
    "* 첫 프롬프트 호출 코드 예시\n",
    "  \n",
    "  ```<python>\n",
    "\n",
    "    # pip install -U -q \"google-genai\"                                  # 터미널 실행\n",
    "\n",
    "    from google import genai\n",
    "\n",
    "    client = genai.Client()\n",
    "\n",
    "    response = client.models.generate_content(\n",
    "        model='gemini-2.0-flash',                                       # 사용할 모델 설정\n",
    "\n",
    "        contents='Tell me a story in 100 words.',                       # 입력 내용 \n",
    "\n",
    "        config=types.GenerateContentConfig(                             # 구성\n",
    "            system_instruction=\n",
    "                        'you are a story teller for kids under 5 years old',         # 시스템 가이드\n",
    "            max_output_tokens= 400,\n",
    "            top_k= 2,\n",
    "            top_p= 0.5,\n",
    "            temperature= 0.5,\n",
    "            response_mime_type= 'application/json',\n",
    "            stop_sequences= ['\\n'],\n",
    "            seed=42,\n",
    "        ),\n",
    "        )\n",
    "\n",
    "    print(response.text)\n",
    "\n",
    "  ```\n",
    "\n",
    "* [구글 SDK 이전 후 라이브러리 호출 방법](https://ai.google.dev/gemini-api/docs/migrate?hl=ko) 참고\n",
    "\n",
    "- * "
   ]
  },
  {
   "cell_type": "markdown",
   "metadata": {},
   "source": [
    "---"
   ]
  },
  {
   "cell_type": "markdown",
   "metadata": {
    "id": "TpV-iwP9qw9c"
   },
   "source": [
    "## 정리 (Cleaning up)\n",
    "\n",
    "이 프로젝트에서 사용된 모든 Google Cloud 리소스를 정리하려면, 튜토리얼에 사용된 [Google Cloud 프로젝트를 삭제](https://cloud.google.com/resource-manager/docs/creating-managing-projects#shutting_down_projects)할 수 있습니다.\n",
    "\n",
    "그렇지 않은 경우, 이 튜토리얼에서 개별적으로 생성한 리소스들을 삭제할 수 있습니다:\n",
    "\n",
    "{TODO: 아래에 개별 리소스를 삭제하는 명령어를 포함하세요.}"
   ]
  },
  {
   "cell_type": "markdown",
   "metadata": {
    "id": "sx_vKniMq9ZX"
   },
   "source": [
    "* 실습을 마친 후 불필요한 비용이 발생하지 않도록 사용했던 클라우드 리소스 삭제\n",
    "\n",
    "\n",
    "```<python>\n",
    "\n",
    "    import os                                               # 파이썬의 os 모듈을 가져와 환경 변수에 접근 가능\n",
    "\n",
    "    # 개별 리소스 삭제하기 \n",
    "    Delete endpoint resource                                \n",
    "    Delete model resource                                  \n",
    "\n",
    "    # delete_bucket이라는 변수 = False로 초기화 = 삭제되지 않음\n",
    "    delete_bucket = False\n",
    "\n",
    "    # 조건문 = 안전장치\n",
    "    if delete_bucket or os.getenv(\"IS_TESTING\"):            # 환경변수 = \"IS_TESTING\" → 삭제\n",
    "        ! gsutil -m rm -r $BUCKET_URI                       # \n",
    "\n",
    "```\n",
    "\n",
    "  * **코드의 핵심 = `delete_bucket` 변수**\n",
    "  \n",
    "    * Delete endpoint resource\n",
    "      * 이전에 생성한 Vertex AI 엔드포인트 삭제\n",
    "      * 예시: `endpoint.delete()`\n",
    "  \n",
    "    * Delete model resource\n",
    "      * 이전에 생성한 모델 객체 삭제\n",
    "      * 에시: `model.delete()`\n",
    "\n",
    "    * `delete_bucket = False` = **초기화** \n",
    "\n",
    "    * 조건문 : \n",
    "      * `if delete_bucket or os.getenv(\"IS_TESTING\")` = `True`\n",
    "        * 환경변수 중에 `\"IS_TESTING\"` 이라는 이름이 설정되어 있다면 (예: 테스트 환경) `삭제 조건`으로 인정\n",
    "      * `! gsutil -m rm -r $BUCKET_URI` = `True` \n",
    "        * `-m` : 다중 스레드 → 병렬 처리로 빠르게 작업 (속도 향상)\n",
    "        * `rm` = `delete`\n",
    "        * `-r` = `재귀적으로` = 폴더, 디렉터리처럼 모든 하위 항목까지 삭제\n",
    "        * `$BUCKET_URI` = 삭제할 GCS 버킷 or 경로\n",
    "    * 버킷 자체를 삭제 X but, **버킷 내 모든 파일과 폴더 삭제, 복구 불가** → **안전장치 O**"
   ]
  },
  {
   "cell_type": "markdown",
   "metadata": {},
   "source": [
    "---"
   ]
  },
  {
   "cell_type": "markdown",
   "metadata": {},
   "source": [
    "- * \n",
    "\n",
    "* Cleaning up 예시\n",
    "  \n",
    "  ```<python>\n",
    "\n",
    "    import os, subprocess, uuid\n",
    "\n",
    "    # 버킷 완전 삭제\n",
    "    delete_bucket = False                               # 실습 후 True 로 바꾸면 곧바로 삭제\n",
    "    if delete_bucket:\n",
    "        subprocess.run([\"gsutil\", \"-m\", \"rm\", \"-r\", BUCKET_URI], check=False)\n",
    "\n",
    "  ```\n",
    "\n",
    "- * "
   ]
  },
  {
   "cell_type": "markdown",
   "metadata": {},
   "source": [
    "---"
   ]
  }
 ],
 "metadata": {
  "colab": {
   "collapsed_sections": [],
   "name": "notebook_template.ipynb",
   "toc_visible": true
  },
  "environment": {
   "kernel": "conda-base-py",
   "name": "workbench-notebooks.m131",
   "type": "gcloud",
   "uri": "us-docker.pkg.dev/deeplearning-platform-release/gcr.io/workbench-notebooks:m131"
  },
  "kernelspec": {
   "display_name": "gcs_env",
   "language": "python",
   "name": "python3"
  },
  "language_info": {
   "codemirror_mode": {
    "name": "ipython",
    "version": 3
   },
   "file_extension": ".py",
   "mimetype": "text/x-python",
   "name": "python",
   "nbconvert_exporter": "python",
   "pygments_lexer": "ipython3",
   "version": "3.13.5"
  }
 },
 "nbformat": 4,
 "nbformat_minor": 4
}
